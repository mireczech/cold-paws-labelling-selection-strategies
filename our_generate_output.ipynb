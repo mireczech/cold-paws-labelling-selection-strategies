{
 "cells": [
  {
   "cell_type": "code",
   "execution_count": 1,
   "metadata": {},
   "outputs": [],
   "source": [
    "import csv\n",
    "import re\n",
    "import os\n",
    "import tqdm\n",
    "import shutil"
   ]
  },
  {
   "cell_type": "code",
   "execution_count": 2,
   "metadata": {},
   "outputs": [
    {
     "data": {
      "text/plain": [
       "['results_data_processed_isic_dino_v2.pickle_tsne_kmediods_csd_200_0',\n",
       " 'results_data_processed_matek_swav_v1.pickle_tsne_kmediods_csd_200_0',\n",
       " 'results_data_processed_cifar10_simclr_v1.pickle_tsne_kmediods_csd_200_0',\n",
       " 'results_data_processed_isic_simclr_v1.pickle_tsne_kmediods_csd_200_0',\n",
       " 'results_data_processed_cifar10_swav_v1.pickle_tsne_kmediods_csd_200_0',\n",
       " 'results_data_processed_retinopathy_swav_v1.pickle_tsne_kmediods_csd_200_0',\n",
       " 'results_data_processed_matek_simclr_v1.pickle_tsne_kmediods_csd_200_0',\n",
       " 'results_data_processed_cifar10_dino_v2.pickle_tsne_kmediods_csd_200_0',\n",
       " 'results_data_processed_jurkat_swav_v1.pickle_tsne_kmediods_csd_200_0',\n",
       " 'results_data_processed_jurkat_dino_v2.pickle_tsne_kmediods_csd_200_0',\n",
       " 'results_data_processed_matek_dino_v2.pickle_tsne_kmediods_csd_200_0',\n",
       " 'results_data_processed_retinopathy_simclr_v1.pickle_tsne_kmediods_csd_200_0',\n",
       " 'results_data_processed_jurkat_simclr_v1.pickle_tsne_kmediods_csd_200_0',\n",
       " 'results_data_processed_isic_swav_v1.pickle_tsne_kmediods_csd_200_0']"
      ]
     },
     "execution_count": 2,
     "metadata": {},
     "output_type": "execute_result"
    }
   ],
   "source": [
    "output_dir = 'output'\n",
    "our_output_dir = 'our_output'\n",
    "our_data_dir = 'our_data'\n",
    "metadata_dir = 'metadata'\n",
    "project_model_data_dir = '/vol/main/initial-data-point-selection-backup/src/models/data'\n",
    "\n",
    "experiment_output_dirs = os.listdir(output_dir)\n",
    "experiment_output_dirs "
   ]
  },
  {
   "cell_type": "code",
   "execution_count": 3,
   "metadata": {},
   "outputs": [],
   "source": [
    "def generate_our_output(indices_path, features_path, our_output_path):\n",
    "    names = []\n",
    "    with open(features_path, 'r') as csv_file:\n",
    "        csv_reader = csv.DictReader(csv_file)\n",
    "        for row in csv_reader:\n",
    "            names.append(row['name'])\n",
    "\n",
    "    # indices\n",
    "    indices = []\n",
    "    with open(indices_path, 'r') as csv_file:\n",
    "        csv_reader = csv.DictReader(csv_file)\n",
    "        for row in csv_reader:\n",
    "            indices.append(int(row['indices']))\n",
    "\n",
    "    # names\n",
    "    with open(our_output_path, 'w') as csv_file:\n",
    "        csv_writer = csv.writer(csv_file)\n",
    "\n",
    "        csv_writer.writerow(['name'])\n",
    "        for i in indices:\n",
    "            csv_writer.writerow([names[i]])"
   ]
  },
  {
   "cell_type": "code",
   "execution_count": 6,
   "metadata": {},
   "outputs": [],
   "source": [
    "def process_experiment_output_dir(experiment_output_dir):\n",
    "    dataset, model_type, model_version = re.search(\n",
    "        r'results_data_processed_([^_]+)_([^_]+)_([^_]+)\\.', \n",
    "        experiment_output_dir\n",
    "    ).groups()\n",
    "\n",
    "    features_path = os.path.join(our_data_dir, f'{dataset}_{model_type}_{model_version}.csv')\n",
    "    our_output_dir = os.path.join(project_model_data_dir, dataset, model_type, model_version, 'cold_paws', '200')\n",
    "    os.makedirs(our_output_dir, exist_ok=True)\n",
    "    metadata_path = os.path.join(metadata_dir, f'{dataset}_{model_type}_{model_version}.csv')\n",
    "\n",
    "    # saving metadata\n",
    "    shutil.copy(metadata_path, os.path.join(our_output_dir, 'metadata.json'))\n",
    "\n",
    "    for i in range(5):\n",
    "        indices_path = os.path.join(output_dir, experiment_output_dir, f'X200-{i}-indicies.csv') \n",
    "        our_output_path = os.path.join(our_output_dir, f'{i}.csv')\n",
    "\n",
    "        generate_our_output(indices_path, features_path, our_output_path)"
   ]
  },
  {
   "cell_type": "code",
   "execution_count": 7,
   "metadata": {},
   "outputs": [
    {
     "name": "stderr",
     "output_type": "stream",
     "text": [
      "100%|██████████| 14/14 [03:04<00:00, 13.19s/it]\n"
     ]
    }
   ],
   "source": [
    "for experiment_output_dir in tqdm.tqdm(experiment_output_dirs):\n",
    "    process_experiment_output_dir(experiment_output_dir)"
   ]
  },
  {
   "cell_type": "code",
   "execution_count": null,
   "metadata": {},
   "outputs": [],
   "source": []
  }
 ],
 "metadata": {
  "kernelspec": {
   "display_name": ".venv",
   "language": "python",
   "name": "python3"
  },
  "language_info": {
   "codemirror_mode": {
    "name": "ipython",
    "version": 3
   },
   "file_extension": ".py",
   "mimetype": "text/x-python",
   "name": "python",
   "nbconvert_exporter": "python",
   "pygments_lexer": "ipython3",
   "version": "3.8.16"
  },
  "orig_nbformat": 4
 },
 "nbformat": 4,
 "nbformat_minor": 2
}
