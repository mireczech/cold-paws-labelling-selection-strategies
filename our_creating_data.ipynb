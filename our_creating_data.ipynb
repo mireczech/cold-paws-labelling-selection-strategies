{
 "cells": [
  {
   "cell_type": "code",
   "execution_count": 2,
   "metadata": {},
   "outputs": [],
   "source": [
    "import csv\n",
    "import re\n",
    "import os\n",
    "import tqdm\n",
    "import shutil"
   ]
  },
  {
   "cell_type": "code",
   "execution_count": 3,
   "metadata": {},
   "outputs": [],
   "source": [
    "our_data_dir = 'our_data'\n",
    "data_dir = 'data'\n",
    "\n",
    "project_path = '/vol/main/initial-data-point-selection-backup/src/models/data'\n",
    "datasets = ['matek', 'isic', 'retinopathy', 'jurkat', 'cifar10']\n",
    "models_type_version = [('simclr', 'v1'), ('swav', 'v1'), ('dino', 'v2')]"
   ]
  },
  {
   "cell_type": "code",
   "execution_count": 4,
   "metadata": {},
   "outputs": [],
   "source": [
    "# creating the root folder\n",
    "os.makedirs(our_data_dir, exist_ok=True)\n",
    "\n",
    "# copying features\n",
    "for model_type, model_version in models_type_version:\n",
    "    for dataset in datasets:\n",
    "        # skips\n",
    "        if (model_type, model_version) == ('dino', 'v2') and dataset == 'retinopathy':\n",
    "            continue\n",
    "\n",
    "        src_path = os.path.join(\n",
    "            project_path,\n",
    "            dataset,\n",
    "            model_type,\n",
    "            model_version,\n",
    "            'features.csv'\n",
    "        )\n",
    "\n",
    "        dest_path = os.path.join(\n",
    "            our_data_dir,\n",
    "            f'{dataset}_{model_type}_{model_version}.csv'\n",
    "        ) \n",
    "\n",
    "        shutil.copy(src_path, dest_path)"
   ]
  },
  {
   "cell_type": "code",
   "execution_count": 6,
   "metadata": {},
   "outputs": [
    {
     "data": {
      "text/plain": [
       "['matek_swav_v1.csv',\n",
       " 'matek_dino_v2.csv',\n",
       " 'retinopathy_simclr_v1.csv',\n",
       " 'cifar10_dino_v2.csv',\n",
       " 'cifar10_swav_v1.csv',\n",
       " 'isic_simclr_v1.csv',\n",
       " 'cifar10_simclr_v1.csv',\n",
       " 'retinopathy_swav_v1.csv',\n",
       " 'jurkat_swav_v1.csv',\n",
       " 'jurkat_simclr_v1.csv',\n",
       " 'matek_simclr_v1.csv',\n",
       " 'jurkat_dino_v2.csv',\n",
       " 'isic_swav_v1.csv',\n",
       " 'isic_dino_v2.csv']"
      ]
     },
     "execution_count": 6,
     "metadata": {},
     "output_type": "execute_result"
    }
   ],
   "source": [
    "feature_names = os.listdir(our_data_dir)\n",
    "feature_names"
   ]
  },
  {
   "cell_type": "code",
   "execution_count": 7,
   "metadata": {},
   "outputs": [],
   "source": [
    "def process_our_features(features_name):\n",
    "    features = []\n",
    "    labels = []\n",
    "    names = []\n",
    "\n",
    "    with open(os.path.join(our_data_dir, features_name), 'r') as csv_file:\n",
    "        csv_reader = csv.DictReader(csv_file)\n",
    "        for row in csv_reader:\n",
    "            features.append([float(el) for el in row['feature'][1:-1].split(', ')])\n",
    "            labels.append(int(re.search(r'tensor\\((\\d+)\\)', row['label']).group(1)))\n",
    "            names.append(row['name'])\n",
    "\n",
    "    # features\n",
    "    with open(os.path.join(data_dir, f'our_features_{features_name}'), 'w') as csv_file:\n",
    "        csv_writer = csv.writer(csv_file)\n",
    "\n",
    "        csv_writer.writerow(range(len(features[0])))\n",
    "        for feature in features:\n",
    "            csv_writer.writerow(feature)\n",
    "\n",
    "    # labels\n",
    "    with open(os.path.join(data_dir, f'our_labels_{features_name}'), 'w') as csv_file:\n",
    "        csv_writer = csv.writer(csv_file)\n",
    "\n",
    "        csv_writer.writerow(['label'])\n",
    "        for label in labels:\n",
    "            csv_writer.writerow([label])\n",
    "\n",
    "    # names\n",
    "    with open(os.path.join(data_dir, f'our_names_{features_name}'), 'w') as csv_file:\n",
    "        csv_writer = csv.writer(csv_file)\n",
    "\n",
    "        csv_writer.writerow(['name'])\n",
    "        for name in names:\n",
    "            csv_writer.writerow([name])\n"
   ]
  },
  {
   "cell_type": "code",
   "execution_count": 8,
   "metadata": {},
   "outputs": [
    {
     "name": "stderr",
     "output_type": "stream",
     "text": [
      "100%|██████████| 14/14 [02:57<00:00, 12.70s/it]\n"
     ]
    }
   ],
   "source": [
    "for feature_name in tqdm.tqdm(feature_names):\n",
    "    process_our_features(feature_name)"
   ]
  },
  {
   "cell_type": "code",
   "execution_count": null,
   "metadata": {},
   "outputs": [],
   "source": []
  }
 ],
 "metadata": {
  "kernelspec": {
   "display_name": ".venv",
   "language": "python",
   "name": "python3"
  },
  "language_info": {
   "codemirror_mode": {
    "name": "ipython",
    "version": 3
   },
   "file_extension": ".py",
   "mimetype": "text/x-python",
   "name": "python",
   "nbconvert_exporter": "python",
   "pygments_lexer": "ipython3",
   "version": "3.10.6"
  },
  "orig_nbformat": 4
 },
 "nbformat": 4,
 "nbformat_minor": 2
}
