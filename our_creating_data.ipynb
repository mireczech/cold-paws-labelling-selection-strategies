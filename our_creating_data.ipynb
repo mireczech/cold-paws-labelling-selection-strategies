{
 "cells": [
  {
   "cell_type": "code",
   "execution_count": 16,
   "metadata": {},
   "outputs": [],
   "source": [
    "import csv\n",
    "import re\n",
    "import os\n",
    "import tqdm\n",
    "import shutil"
   ]
  },
  {
   "cell_type": "code",
   "execution_count": 10,
   "metadata": {},
   "outputs": [],
   "source": [
    "our_data_dir = 'our_data'\n",
    "data_dir = 'data'\n",
    "\n",
    "project_path = '/vol/main/initial-data-point-selection-backup/src/models/data'\n",
    "datasets = ['matek', 'isic', 'retinopathy', 'jurkat', 'cifar10']\n",
    "models_type_version = [('simclr', 'v1'), ('swav', 'v1'), ('dino', 'v2')]"
   ]
  },
  {
   "cell_type": "code",
   "execution_count": 11,
   "metadata": {},
   "outputs": [],
   "source": [
    "# creating the root folder\n",
    "os.makedirs(our_data_dir, exist_ok=True)\n",
    "\n",
    "# copying features\n",
    "for model_type, model_version in models_type_version:\n",
    "    for dataset in datasets:\n",
    "        # skips\n",
    "        if (model_type, model_version) == ('dino', 'v2') and dataset == 'retinopathy':\n",
    "            continue\n",
    "\n",
    "        src_path = os.path.join(\n",
    "            project_path,\n",
    "            dataset,\n",
    "            model_type,\n",
    "            model_version,\n",
    "            'features.csv'\n",
    "        )\n",
    "\n",
    "        dest_path = os.path.join(\n",
    "            our_data_dir,\n",
    "            f'{dataset}_{model_type}_{model_version}.csv'\n",
    "        ) \n",
    "\n",
    "        shutil.copy(src_path, dest_path)"
   ]
  },
  {
   "cell_type": "code",
   "execution_count": 12,
   "metadata": {},
   "outputs": [
    {
     "data": {
      "text/plain": [
       "['matek_simclr_v1.csv',\n",
       " 'isic_swav_v1.csv',\n",
       " 'matek_swav_v1.csv',\n",
       " 'cifar10_simclr_v1.csv',\n",
       " 'jurkat_dino_v2.csv',\n",
       " 'cifar10_swav_v1.csv',\n",
       " 'matek_dino_v2.csv',\n",
       " 'isic_dino_v2.csv',\n",
       " 'retinopathy_swav_v1.csv',\n",
       " 'cifar10_dino_v2.csv',\n",
       " 'isic_simclr_v1.csv',\n",
       " 'retinopathy_simclr_v1.csv',\n",
       " 'jurkat_simclr_v1.csv',\n",
       " 'jurkat_swav_v1.csv']"
      ]
     },
     "execution_count": 12,
     "metadata": {},
     "output_type": "execute_result"
    }
   ],
   "source": [
    "feature_names = os.listdir(our_data_dir)\n",
    "feature_names"
   ]
  },
  {
   "cell_type": "code",
   "execution_count": 15,
   "metadata": {},
   "outputs": [],
   "source": [
    "def process_our_features(features_name):\n",
    "    features = []\n",
    "    labels = []\n",
    "    names = []\n",
    "\n",
    "    with open(os.path.join(our_data_dir, features_name), 'r') as csv_file:\n",
    "        csv_reader = csv.DictReader(csv_file)\n",
    "        for row in csv_reader:\n",
    "            features.append([float(el) for el in row['feature'][1:-1].split(', ')])\n",
    "            labels.append(int(re.search(r'tensor\\((\\d+)\\)', row['label']).group(1)))\n",
    "            names.append(row['name'])\n",
    "\n",
    "    # features\n",
    "    with open(os.path.join(data_dir, f'our_features_{features_name}'), 'w') as csv_file:\n",
    "        csv_writer = csv.writer(csv_file)\n",
    "\n",
    "        csv_writer.writerow(range(len(features[0])))\n",
    "        for feature in features:\n",
    "            csv_writer.writerow(feature)\n",
    "\n",
    "    # labels\n",
    "    with open(os.path.join(data_dir, f'our_labels_{features_name}'), 'w') as csv_file:\n",
    "        csv_writer = csv.writer(csv_file)\n",
    "\n",
    "        csv_writer.writerow(['label'])\n",
    "        for label in labels:\n",
    "            csv_writer.writerow([label])\n",
    "\n",
    "    # names\n",
    "    with open(os.path.join(data_dir, f'our_names_{features_name}'), 'w') as csv_file:\n",
    "        csv_writer = csv.writer(csv_file)\n",
    "\n",
    "        csv_writer.writerow(['name'])\n",
    "        for name in names:\n",
    "            csv_writer.writerow([name])\n"
   ]
  },
  {
   "cell_type": "code",
   "execution_count": 17,
   "metadata": {},
   "outputs": [
    {
     "name": "stderr",
     "output_type": "stream",
     "text": [
      " 14%|█▍        | 2/14 [00:32<03:16, 16.40s/it]\n"
     ]
    },
    {
     "ename": "KeyboardInterrupt",
     "evalue": "",
     "output_type": "error",
     "traceback": [
      "\u001b[0;31m---------------------------------------------------------------------------\u001b[0m",
      "\u001b[0;31mKeyboardInterrupt\u001b[0m                         Traceback (most recent call last)",
      "Cell \u001b[0;32mIn[17], line 2\u001b[0m\n\u001b[1;32m      1\u001b[0m \u001b[39mfor\u001b[39;00m feature_name \u001b[39min\u001b[39;00m tqdm\u001b[39m.\u001b[39mtqdm(feature_names):\n\u001b[0;32m----> 2\u001b[0m     process_our_features(feature_name)\n",
      "Cell \u001b[0;32mIn[15], line 19\u001b[0m, in \u001b[0;36mprocess_our_features\u001b[0;34m(features_name)\u001b[0m\n\u001b[1;32m     17\u001b[0m     csv_writer\u001b[39m.\u001b[39mwriterow(\u001b[39mrange\u001b[39m(\u001b[39mlen\u001b[39m(features[\u001b[39m0\u001b[39m])))\n\u001b[1;32m     18\u001b[0m     \u001b[39mfor\u001b[39;00m feature \u001b[39min\u001b[39;00m features:\n\u001b[0;32m---> 19\u001b[0m         csv_writer\u001b[39m.\u001b[39;49mwriterow(feature)\n\u001b[1;32m     21\u001b[0m \u001b[39m# labels\u001b[39;00m\n\u001b[1;32m     22\u001b[0m \u001b[39mwith\u001b[39;00m \u001b[39mopen\u001b[39m(os\u001b[39m.\u001b[39mpath\u001b[39m.\u001b[39mjoin(data_dir, \u001b[39mf\u001b[39m\u001b[39m'\u001b[39m\u001b[39mour_labels_\u001b[39m\u001b[39m{\u001b[39;00mfeatures_name\u001b[39m}\u001b[39;00m\u001b[39m'\u001b[39m), \u001b[39m'\u001b[39m\u001b[39mw\u001b[39m\u001b[39m'\u001b[39m) \u001b[39mas\u001b[39;00m csv_file:\n",
      "\u001b[0;31mKeyboardInterrupt\u001b[0m: "
     ]
    }
   ],
   "source": [
    "for feature_name in tqdm.tqdm(feature_names):\n",
    "    process_our_features(feature_name)"
   ]
  },
  {
   "cell_type": "code",
   "execution_count": null,
   "metadata": {},
   "outputs": [],
   "source": []
  }
 ],
 "metadata": {
  "kernelspec": {
   "display_name": ".venv",
   "language": "python",
   "name": "python3"
  },
  "language_info": {
   "codemirror_mode": {
    "name": "ipython",
    "version": 3
   },
   "file_extension": ".py",
   "mimetype": "text/x-python",
   "name": "python",
   "nbconvert_exporter": "python",
   "pygments_lexer": "ipython3",
   "version": "3.8.16"
  },
  "orig_nbformat": 4
 },
 "nbformat": 4,
 "nbformat_minor": 2
}
